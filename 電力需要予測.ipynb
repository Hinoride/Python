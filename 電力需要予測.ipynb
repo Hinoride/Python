{
 "cells": [
  {
   "cell_type": "code",
   "execution_count": 3,
   "id": "c7db8b4c",
   "metadata": {},
   "outputs": [
    {
     "name": "stdout",
     "output_type": "stream",
     "text": [
      "Requirement already satisfied: pystan in c:\\users\\owner\\anaconda3\\lib\\site-packages (2.19.1.1)\n",
      "Requirement already satisfied: Cython!=0.25.1,>=0.22 in c:\\users\\owner\\anaconda3\\lib\\site-packages (from pystan) (0.29.23)\n",
      "Requirement already satisfied: numpy>=1.7 in c:\\users\\owner\\anaconda3\\lib\\site-packages (from pystan) (1.20.1)\n",
      "Requirement already satisfied: Prophet in c:\\users\\owner\\anaconda3\\lib\\site-packages (1.0.1)\n",
      "Requirement already satisfied: convertdate>=2.1.2 in c:\\users\\owner\\anaconda3\\lib\\site-packages (from Prophet) (2.3.2)\n",
      "Requirement already satisfied: matplotlib>=2.0.0 in c:\\users\\owner\\anaconda3\\lib\\site-packages (from Prophet) (3.3.4)\n",
      "Requirement already satisfied: holidays>=0.10.2 in c:\\users\\owner\\anaconda3\\lib\\site-packages (from Prophet) (0.11.3.1)\n",
      "Requirement already satisfied: pandas>=1.0.4 in c:\\users\\owner\\anaconda3\\lib\\site-packages (from Prophet) (1.2.4)\n",
      "Requirement already satisfied: python-dateutil>=2.8.0 in c:\\users\\owner\\anaconda3\\lib\\site-packages (from Prophet) (2.8.1)\n",
      "Requirement already satisfied: LunarCalendar>=0.0.9 in c:\\users\\owner\\anaconda3\\lib\\site-packages (from Prophet) (0.0.9)\n",
      "Requirement already satisfied: tqdm>=4.36.1 in c:\\users\\owner\\anaconda3\\lib\\site-packages (from Prophet) (4.59.0)\n",
      "Requirement already satisfied: cmdstanpy==0.9.68 in c:\\users\\owner\\anaconda3\\lib\\site-packages (from Prophet) (0.9.68)\n",
      "Requirement already satisfied: numpy>=1.15.4 in c:\\users\\owner\\anaconda3\\lib\\site-packages (from Prophet) (1.20.1)\n",
      "Requirement already satisfied: Cython>=0.22 in c:\\users\\owner\\anaconda3\\lib\\site-packages (from Prophet) (0.29.23)\n",
      "Requirement already satisfied: setuptools-git>=1.2 in c:\\users\\owner\\anaconda3\\lib\\site-packages (from Prophet) (1.2)\n",
      "Requirement already satisfied: pystan~=2.19.1.1 in c:\\users\\owner\\anaconda3\\lib\\site-packages (from Prophet) (2.19.1.1)\n",
      "Requirement already satisfied: ujson in c:\\users\\owner\\anaconda3\\lib\\site-packages (from cmdstanpy==0.9.68->Prophet) (4.0.2)\n",
      "Requirement already satisfied: pymeeus<=1,>=0.3.13 in c:\\users\\owner\\anaconda3\\lib\\site-packages (from convertdate>=2.1.2->Prophet) (0.5.10)\n",
      "Requirement already satisfied: pytz>=2014.10 in c:\\users\\owner\\anaconda3\\lib\\site-packages (from convertdate>=2.1.2->Prophet) (2021.1)\n",
      "Requirement already satisfied: korean-lunar-calendar in c:\\users\\owner\\anaconda3\\lib\\site-packages (from holidays>=0.10.2->Prophet) (0.2.1)\n",
      "Requirement already satisfied: hijri-converter in c:\\users\\owner\\anaconda3\\lib\\site-packages (from holidays>=0.10.2->Prophet) (2.2.2)\n",
      "Requirement already satisfied: ephem>=3.7.5.3 in c:\\users\\owner\\anaconda3\\lib\\site-packages (from LunarCalendar>=0.0.9->Prophet) (4.1)\n",
      "Requirement already satisfied: cycler>=0.10 in c:\\users\\owner\\anaconda3\\lib\\site-packages (from matplotlib>=2.0.0->Prophet) (0.10.0)\n",
      "Requirement already satisfied: pyparsing!=2.0.4,!=2.1.2,!=2.1.6,>=2.0.3 in c:\\users\\owner\\anaconda3\\lib\\site-packages (from matplotlib>=2.0.0->Prophet) (2.4.7)\n",
      "Requirement already satisfied: pillow>=6.2.0 in c:\\users\\owner\\anaconda3\\lib\\site-packages (from matplotlib>=2.0.0->Prophet) (8.2.0)\n",
      "Requirement already satisfied: kiwisolver>=1.0.1 in c:\\users\\owner\\anaconda3\\lib\\site-packages (from matplotlib>=2.0.0->Prophet) (1.3.1)\n",
      "Requirement already satisfied: six in c:\\users\\owner\\anaconda3\\lib\\site-packages (from cycler>=0.10->matplotlib>=2.0.0->Prophet) (1.15.0)\n"
     ]
    }
   ],
   "source": [
    "!pip3 install pystan\n",
    "!pip3 install Prophet"
   ]
  },
  {
   "cell_type": "code",
   "execution_count": 42,
   "id": "4f1b758b",
   "metadata": {},
   "outputs": [],
   "source": [
    "import pandas as pd"
   ]
  },
  {
   "cell_type": "code",
   "execution_count": 13,
   "id": "b1376f09",
   "metadata": {},
   "outputs": [],
   "source": [
    "_df=pd.read_csv('https://www.tepco.co.jp/forecast/html/images/juyo-2017.csv', encoding='shift-jis', skiprows=1)"
   ]
  },
  {
   "cell_type": "code",
   "execution_count": 14,
   "id": "07b5d25b",
   "metadata": {},
   "outputs": [
    {
     "data": {
      "text/html": [
       "<div>\n",
       "<style scoped>\n",
       "    .dataframe tbody tr th:only-of-type {\n",
       "        vertical-align: middle;\n",
       "    }\n",
       "\n",
       "    .dataframe tbody tr th {\n",
       "        vertical-align: top;\n",
       "    }\n",
       "\n",
       "    .dataframe thead th {\n",
       "        text-align: right;\n",
       "    }\n",
       "</style>\n",
       "<table border=\"1\" class=\"dataframe\">\n",
       "  <thead>\n",
       "    <tr style=\"text-align: right;\">\n",
       "      <th></th>\n",
       "      <th>DATE</th>\n",
       "      <th>TIME</th>\n",
       "      <th>実績(万kW)</th>\n",
       "    </tr>\n",
       "  </thead>\n",
       "  <tbody>\n",
       "    <tr>\n",
       "      <th>0</th>\n",
       "      <td>2017/1/1</td>\n",
       "      <td>0:00</td>\n",
       "      <td>2783</td>\n",
       "    </tr>\n",
       "    <tr>\n",
       "      <th>1</th>\n",
       "      <td>2017/1/1</td>\n",
       "      <td>1:00</td>\n",
       "      <td>2634</td>\n",
       "    </tr>\n",
       "    <tr>\n",
       "      <th>2</th>\n",
       "      <td>2017/1/1</td>\n",
       "      <td>2:00</td>\n",
       "      <td>2520</td>\n",
       "    </tr>\n",
       "    <tr>\n",
       "      <th>3</th>\n",
       "      <td>2017/1/1</td>\n",
       "      <td>3:00</td>\n",
       "      <td>2438</td>\n",
       "    </tr>\n",
       "    <tr>\n",
       "      <th>4</th>\n",
       "      <td>2017/1/1</td>\n",
       "      <td>4:00</td>\n",
       "      <td>2389</td>\n",
       "    </tr>\n",
       "    <tr>\n",
       "      <th>...</th>\n",
       "      <td>...</td>\n",
       "      <td>...</td>\n",
       "      <td>...</td>\n",
       "    </tr>\n",
       "    <tr>\n",
       "      <th>8755</th>\n",
       "      <td>2017/12/31</td>\n",
       "      <td>19:00</td>\n",
       "      <td>3527</td>\n",
       "    </tr>\n",
       "    <tr>\n",
       "      <th>8756</th>\n",
       "      <td>2017/12/31</td>\n",
       "      <td>20:00</td>\n",
       "      <td>3443</td>\n",
       "    </tr>\n",
       "    <tr>\n",
       "      <th>8757</th>\n",
       "      <td>2017/12/31</td>\n",
       "      <td>21:00</td>\n",
       "      <td>3335</td>\n",
       "    </tr>\n",
       "    <tr>\n",
       "      <th>8758</th>\n",
       "      <td>2017/12/31</td>\n",
       "      <td>22:00</td>\n",
       "      <td>3200</td>\n",
       "    </tr>\n",
       "    <tr>\n",
       "      <th>8759</th>\n",
       "      <td>2017/12/31</td>\n",
       "      <td>23:00</td>\n",
       "      <td>3141</td>\n",
       "    </tr>\n",
       "  </tbody>\n",
       "</table>\n",
       "<p>8760 rows × 3 columns</p>\n",
       "</div>"
      ],
      "text/plain": [
       "            DATE   TIME  実績(万kW)\n",
       "0       2017/1/1   0:00     2783\n",
       "1       2017/1/1   1:00     2634\n",
       "2       2017/1/1   2:00     2520\n",
       "3       2017/1/1   3:00     2438\n",
       "4       2017/1/1   4:00     2389\n",
       "...          ...    ...      ...\n",
       "8755  2017/12/31  19:00     3527\n",
       "8756  2017/12/31  20:00     3443\n",
       "8757  2017/12/31  21:00     3335\n",
       "8758  2017/12/31  22:00     3200\n",
       "8759  2017/12/31  23:00     3141\n",
       "\n",
       "[8760 rows x 3 columns]"
      ]
     },
     "execution_count": 14,
     "metadata": {},
     "output_type": "execute_result"
    }
   ],
   "source": [
    "_df"
   ]
  },
  {
   "cell_type": "code",
   "execution_count": 17,
   "id": "b5439e53",
   "metadata": {},
   "outputs": [],
   "source": [
    "years =[2017,2018,2019]\n",
    "df = pd.DataFrame()\n",
    "for year in years:\n",
    "    _df=pd.read_csv(f'https://www.tepco.co.jp/forecast/html/images/juyo-{year}.csv', encoding='shift-jis', skiprows=1)\n",
    "    df = pd.concat([df,_df],axis=0)"
   ]
  },
  {
   "cell_type": "code",
   "execution_count": 18,
   "id": "3850e9a7",
   "metadata": {},
   "outputs": [
    {
     "data": {
      "text/html": [
       "<div>\n",
       "<style scoped>\n",
       "    .dataframe tbody tr th:only-of-type {\n",
       "        vertical-align: middle;\n",
       "    }\n",
       "\n",
       "    .dataframe tbody tr th {\n",
       "        vertical-align: top;\n",
       "    }\n",
       "\n",
       "    .dataframe thead th {\n",
       "        text-align: right;\n",
       "    }\n",
       "</style>\n",
       "<table border=\"1\" class=\"dataframe\">\n",
       "  <thead>\n",
       "    <tr style=\"text-align: right;\">\n",
       "      <th></th>\n",
       "      <th>DATE</th>\n",
       "      <th>TIME</th>\n",
       "      <th>実績(万kW)</th>\n",
       "    </tr>\n",
       "  </thead>\n",
       "  <tbody>\n",
       "    <tr>\n",
       "      <th>0</th>\n",
       "      <td>2017/1/1</td>\n",
       "      <td>0:00</td>\n",
       "      <td>2783</td>\n",
       "    </tr>\n",
       "    <tr>\n",
       "      <th>1</th>\n",
       "      <td>2017/1/1</td>\n",
       "      <td>1:00</td>\n",
       "      <td>2634</td>\n",
       "    </tr>\n",
       "    <tr>\n",
       "      <th>2</th>\n",
       "      <td>2017/1/1</td>\n",
       "      <td>2:00</td>\n",
       "      <td>2520</td>\n",
       "    </tr>\n",
       "    <tr>\n",
       "      <th>3</th>\n",
       "      <td>2017/1/1</td>\n",
       "      <td>3:00</td>\n",
       "      <td>2438</td>\n",
       "    </tr>\n",
       "    <tr>\n",
       "      <th>4</th>\n",
       "      <td>2017/1/1</td>\n",
       "      <td>4:00</td>\n",
       "      <td>2389</td>\n",
       "    </tr>\n",
       "    <tr>\n",
       "      <th>...</th>\n",
       "      <td>...</td>\n",
       "      <td>...</td>\n",
       "      <td>...</td>\n",
       "    </tr>\n",
       "    <tr>\n",
       "      <th>8755</th>\n",
       "      <td>2019/12/31</td>\n",
       "      <td>19:00</td>\n",
       "      <td>3302</td>\n",
       "    </tr>\n",
       "    <tr>\n",
       "      <th>8756</th>\n",
       "      <td>2019/12/31</td>\n",
       "      <td>20:00</td>\n",
       "      <td>3263</td>\n",
       "    </tr>\n",
       "    <tr>\n",
       "      <th>8757</th>\n",
       "      <td>2019/12/31</td>\n",
       "      <td>21:00</td>\n",
       "      <td>3182</td>\n",
       "    </tr>\n",
       "    <tr>\n",
       "      <th>8758</th>\n",
       "      <td>2019/12/31</td>\n",
       "      <td>22:00</td>\n",
       "      <td>3077</td>\n",
       "    </tr>\n",
       "    <tr>\n",
       "      <th>8759</th>\n",
       "      <td>2019/12/31</td>\n",
       "      <td>23:00</td>\n",
       "      <td>3029</td>\n",
       "    </tr>\n",
       "  </tbody>\n",
       "</table>\n",
       "<p>26280 rows × 3 columns</p>\n",
       "</div>"
      ],
      "text/plain": [
       "            DATE   TIME  実績(万kW)\n",
       "0       2017/1/1   0:00     2783\n",
       "1       2017/1/1   1:00     2634\n",
       "2       2017/1/1   2:00     2520\n",
       "3       2017/1/1   3:00     2438\n",
       "4       2017/1/1   4:00     2389\n",
       "...          ...    ...      ...\n",
       "8755  2019/12/31  19:00     3302\n",
       "8756  2019/12/31  20:00     3263\n",
       "8757  2019/12/31  21:00     3182\n",
       "8758  2019/12/31  22:00     3077\n",
       "8759  2019/12/31  23:00     3029\n",
       "\n",
       "[26280 rows x 3 columns]"
      ]
     },
     "execution_count": 18,
     "metadata": {},
     "output_type": "execute_result"
    }
   ],
   "source": [
    "df"
   ]
  },
  {
   "cell_type": "code",
   "execution_count": 20,
   "id": "6143673f",
   "metadata": {},
   "outputs": [],
   "source": [
    "df=df.reset_index(drop=True)"
   ]
  },
  {
   "cell_type": "code",
   "execution_count": 27,
   "id": "e44e5e14",
   "metadata": {},
   "outputs": [
    {
     "data": {
      "text/plain": [
       "'2017/1/1 0:00'"
      ]
     },
     "execution_count": 27,
     "metadata": {},
     "output_type": "execute_result"
    }
   ],
   "source": [
    "date = df['DATE'][0]\n",
    "time = df['TIME'][0]\n",
    "str_datetime = f'{date} {time}'\n",
    "str_datetime"
   ]
  },
  {
   "cell_type": "code",
   "execution_count": 29,
   "id": "be975d11",
   "metadata": {},
   "outputs": [],
   "source": [
    "from datetime import datetime as dt"
   ]
  },
  {
   "cell_type": "code",
   "execution_count": 31,
   "id": "96d2834c",
   "metadata": {},
   "outputs": [
    {
     "data": {
      "text/plain": [
       "datetime.datetime(2017, 1, 1, 0, 0)"
      ]
     },
     "execution_count": 31,
     "metadata": {},
     "output_type": "execute_result"
    }
   ],
   "source": [
    "datetime = dt.strptime(str_datetime, '%Y/%m/%d %H:%M')\n",
    "datetime"
   ]
  },
  {
   "cell_type": "code",
   "execution_count": 34,
   "id": "1c602f5e",
   "metadata": {},
   "outputs": [],
   "source": [
    "datetimes =[]\n",
    "\n",
    "for index, datum in df.iterrows():\n",
    "    date = datum['DATE']\n",
    "    time = datum['TIME']\n",
    "    str_datetime = f'{date} {time}'\n",
    "    datetime = dt.strptime(str_datetime, '%Y/%m/%d %H:%M')\n",
    "    datetimes.append(datetime)"
   ]
  },
  {
   "cell_type": "code",
   "execution_count": 36,
   "id": "69ebc6a9",
   "metadata": {},
   "outputs": [
    {
     "data": {
      "text/plain": [
       "[datetime.datetime(2017, 1, 1, 0, 0),\n",
       " datetime.datetime(2017, 1, 1, 1, 0),\n",
       " datetime.datetime(2017, 1, 1, 2, 0)]"
      ]
     },
     "execution_count": 36,
     "metadata": {},
     "output_type": "execute_result"
    }
   ],
   "source": [
    "datetimes[:3]"
   ]
  },
  {
   "cell_type": "code",
   "execution_count": 37,
   "id": "e9319d20",
   "metadata": {},
   "outputs": [],
   "source": [
    "df['ds'] = datetimes"
   ]
  },
  {
   "cell_type": "code",
   "execution_count": 38,
   "id": "2b2aedc2",
   "metadata": {},
   "outputs": [
    {
     "data": {
      "text/html": [
       "<div>\n",
       "<style scoped>\n",
       "    .dataframe tbody tr th:only-of-type {\n",
       "        vertical-align: middle;\n",
       "    }\n",
       "\n",
       "    .dataframe tbody tr th {\n",
       "        vertical-align: top;\n",
       "    }\n",
       "\n",
       "    .dataframe thead th {\n",
       "        text-align: right;\n",
       "    }\n",
       "</style>\n",
       "<table border=\"1\" class=\"dataframe\">\n",
       "  <thead>\n",
       "    <tr style=\"text-align: right;\">\n",
       "      <th></th>\n",
       "      <th>DATE</th>\n",
       "      <th>TIME</th>\n",
       "      <th>実績(万kW)</th>\n",
       "      <th>ds</th>\n",
       "    </tr>\n",
       "  </thead>\n",
       "  <tbody>\n",
       "    <tr>\n",
       "      <th>0</th>\n",
       "      <td>2017/1/1</td>\n",
       "      <td>0:00</td>\n",
       "      <td>2783</td>\n",
       "      <td>2017-01-01 00:00:00</td>\n",
       "    </tr>\n",
       "    <tr>\n",
       "      <th>1</th>\n",
       "      <td>2017/1/1</td>\n",
       "      <td>1:00</td>\n",
       "      <td>2634</td>\n",
       "      <td>2017-01-01 01:00:00</td>\n",
       "    </tr>\n",
       "    <tr>\n",
       "      <th>2</th>\n",
       "      <td>2017/1/1</td>\n",
       "      <td>2:00</td>\n",
       "      <td>2520</td>\n",
       "      <td>2017-01-01 02:00:00</td>\n",
       "    </tr>\n",
       "    <tr>\n",
       "      <th>3</th>\n",
       "      <td>2017/1/1</td>\n",
       "      <td>3:00</td>\n",
       "      <td>2438</td>\n",
       "      <td>2017-01-01 03:00:00</td>\n",
       "    </tr>\n",
       "    <tr>\n",
       "      <th>4</th>\n",
       "      <td>2017/1/1</td>\n",
       "      <td>4:00</td>\n",
       "      <td>2389</td>\n",
       "      <td>2017-01-01 04:00:00</td>\n",
       "    </tr>\n",
       "  </tbody>\n",
       "</table>\n",
       "</div>"
      ],
      "text/plain": [
       "       DATE  TIME  実績(万kW)                  ds\n",
       "0  2017/1/1  0:00     2783 2017-01-01 00:00:00\n",
       "1  2017/1/1  1:00     2634 2017-01-01 01:00:00\n",
       "2  2017/1/1  2:00     2520 2017-01-01 02:00:00\n",
       "3  2017/1/1  3:00     2438 2017-01-01 03:00:00\n",
       "4  2017/1/1  4:00     2389 2017-01-01 04:00:00"
      ]
     },
     "execution_count": 38,
     "metadata": {},
     "output_type": "execute_result"
    }
   ],
   "source": [
    "df.head()"
   ]
  },
  {
   "cell_type": "code",
   "execution_count": 40,
   "id": "dfb79dac",
   "metadata": {},
   "outputs": [
    {
     "data": {
      "text/html": [
       "<div>\n",
       "<style scoped>\n",
       "    .dataframe tbody tr th:only-of-type {\n",
       "        vertical-align: middle;\n",
       "    }\n",
       "\n",
       "    .dataframe tbody tr th {\n",
       "        vertical-align: top;\n",
       "    }\n",
       "\n",
       "    .dataframe thead th {\n",
       "        text-align: right;\n",
       "    }\n",
       "</style>\n",
       "<table border=\"1\" class=\"dataframe\">\n",
       "  <thead>\n",
       "    <tr style=\"text-align: right;\">\n",
       "      <th></th>\n",
       "      <th>DATE</th>\n",
       "      <th>TIME</th>\n",
       "      <th>y</th>\n",
       "      <th>ds</th>\n",
       "    </tr>\n",
       "  </thead>\n",
       "  <tbody>\n",
       "    <tr>\n",
       "      <th>0</th>\n",
       "      <td>2017/1/1</td>\n",
       "      <td>0:00</td>\n",
       "      <td>2783</td>\n",
       "      <td>2017-01-01 00:00:00</td>\n",
       "    </tr>\n",
       "    <tr>\n",
       "      <th>1</th>\n",
       "      <td>2017/1/1</td>\n",
       "      <td>1:00</td>\n",
       "      <td>2634</td>\n",
       "      <td>2017-01-01 01:00:00</td>\n",
       "    </tr>\n",
       "    <tr>\n",
       "      <th>2</th>\n",
       "      <td>2017/1/1</td>\n",
       "      <td>2:00</td>\n",
       "      <td>2520</td>\n",
       "      <td>2017-01-01 02:00:00</td>\n",
       "    </tr>\n",
       "    <tr>\n",
       "      <th>3</th>\n",
       "      <td>2017/1/1</td>\n",
       "      <td>3:00</td>\n",
       "      <td>2438</td>\n",
       "      <td>2017-01-01 03:00:00</td>\n",
       "    </tr>\n",
       "    <tr>\n",
       "      <th>4</th>\n",
       "      <td>2017/1/1</td>\n",
       "      <td>4:00</td>\n",
       "      <td>2389</td>\n",
       "      <td>2017-01-01 04:00:00</td>\n",
       "    </tr>\n",
       "  </tbody>\n",
       "</table>\n",
       "</div>"
      ],
      "text/plain": [
       "       DATE  TIME     y                  ds\n",
       "0  2017/1/1  0:00  2783 2017-01-01 00:00:00\n",
       "1  2017/1/1  1:00  2634 2017-01-01 01:00:00\n",
       "2  2017/1/1  2:00  2520 2017-01-01 02:00:00\n",
       "3  2017/1/1  3:00  2438 2017-01-01 03:00:00\n",
       "4  2017/1/1  4:00  2389 2017-01-01 04:00:00"
      ]
     },
     "execution_count": 40,
     "metadata": {},
     "output_type": "execute_result"
    }
   ],
   "source": [
    "df = df.rename(columns={'実績(万kW)':'y'})\n",
    "df.head()"
   ]
  },
  {
   "cell_type": "code",
   "execution_count": 56,
   "id": "15f69690",
   "metadata": {},
   "outputs": [],
   "source": [
    "from prophet import Prophet\n",
    "model = Prophet()"
   ]
  },
  {
   "cell_type": "code",
   "execution_count": 57,
   "id": "5d560a34",
   "metadata": {},
   "outputs": [
    {
     "name": "stderr",
     "output_type": "stream",
     "text": [
      "INFO:numexpr.utils:Note: NumExpr detected 16 cores but \"NUMEXPR_MAX_THREADS\" not set, so enforcing safe limit of 8.\n",
      "INFO:numexpr.utils:NumExpr defaulting to 8 threads.\n"
     ]
    },
    {
     "data": {
      "text/plain": [
       "<prophet.forecaster.Prophet at 0x27d6259f5b0>"
      ]
     },
     "execution_count": 57,
     "metadata": {},
     "output_type": "execute_result"
    }
   ],
   "source": [
    "model.fit(df)"
   ]
  },
  {
   "cell_type": "code",
   "execution_count": 59,
   "id": "59562b40",
   "metadata": {},
   "outputs": [],
   "source": [
    "future = model.make_future_dataframe(24*366, freq='H')"
   ]
  },
  {
   "cell_type": "code",
   "execution_count": 60,
   "id": "d062a312",
   "metadata": {},
   "outputs": [
    {
     "data": {
      "text/html": [
       "<div>\n",
       "<style scoped>\n",
       "    .dataframe tbody tr th:only-of-type {\n",
       "        vertical-align: middle;\n",
       "    }\n",
       "\n",
       "    .dataframe tbody tr th {\n",
       "        vertical-align: top;\n",
       "    }\n",
       "\n",
       "    .dataframe thead th {\n",
       "        text-align: right;\n",
       "    }\n",
       "</style>\n",
       "<table border=\"1\" class=\"dataframe\">\n",
       "  <thead>\n",
       "    <tr style=\"text-align: right;\">\n",
       "      <th></th>\n",
       "      <th>ds</th>\n",
       "    </tr>\n",
       "  </thead>\n",
       "  <tbody>\n",
       "    <tr>\n",
       "      <th>0</th>\n",
       "      <td>2017-01-01 00:00:00</td>\n",
       "    </tr>\n",
       "    <tr>\n",
       "      <th>1</th>\n",
       "      <td>2017-01-01 01:00:00</td>\n",
       "    </tr>\n",
       "    <tr>\n",
       "      <th>2</th>\n",
       "      <td>2017-01-01 02:00:00</td>\n",
       "    </tr>\n",
       "    <tr>\n",
       "      <th>3</th>\n",
       "      <td>2017-01-01 03:00:00</td>\n",
       "    </tr>\n",
       "    <tr>\n",
       "      <th>4</th>\n",
       "      <td>2017-01-01 04:00:00</td>\n",
       "    </tr>\n",
       "    <tr>\n",
       "      <th>...</th>\n",
       "      <td>...</td>\n",
       "    </tr>\n",
       "    <tr>\n",
       "      <th>35059</th>\n",
       "      <td>2020-12-31 19:00:00</td>\n",
       "    </tr>\n",
       "    <tr>\n",
       "      <th>35060</th>\n",
       "      <td>2020-12-31 20:00:00</td>\n",
       "    </tr>\n",
       "    <tr>\n",
       "      <th>35061</th>\n",
       "      <td>2020-12-31 21:00:00</td>\n",
       "    </tr>\n",
       "    <tr>\n",
       "      <th>35062</th>\n",
       "      <td>2020-12-31 22:00:00</td>\n",
       "    </tr>\n",
       "    <tr>\n",
       "      <th>35063</th>\n",
       "      <td>2020-12-31 23:00:00</td>\n",
       "    </tr>\n",
       "  </tbody>\n",
       "</table>\n",
       "<p>35064 rows × 1 columns</p>\n",
       "</div>"
      ],
      "text/plain": [
       "                       ds\n",
       "0     2017-01-01 00:00:00\n",
       "1     2017-01-01 01:00:00\n",
       "2     2017-01-01 02:00:00\n",
       "3     2017-01-01 03:00:00\n",
       "4     2017-01-01 04:00:00\n",
       "...                   ...\n",
       "35059 2020-12-31 19:00:00\n",
       "35060 2020-12-31 20:00:00\n",
       "35061 2020-12-31 21:00:00\n",
       "35062 2020-12-31 22:00:00\n",
       "35063 2020-12-31 23:00:00\n",
       "\n",
       "[35064 rows x 1 columns]"
      ]
     },
     "execution_count": 60,
     "metadata": {},
     "output_type": "execute_result"
    }
   ],
   "source": [
    "future"
   ]
  },
  {
   "cell_type": "code",
   "execution_count": 61,
   "id": "548f747e",
   "metadata": {},
   "outputs": [],
   "source": [
    "forecast = model.predict(future)"
   ]
  },
  {
   "cell_type": "code",
   "execution_count": 62,
   "id": "da529797",
   "metadata": {},
   "outputs": [],
   "source": [
    "import matplotlib.pyplot as plt"
   ]
  },
  {
   "cell_type": "code",
   "execution_count": 85,
   "id": "36aedca9",
   "metadata": {},
   "outputs": [
    {
     "data": {
      "image/png": "[encoded data removed]",
      "text/plain": [
       "<Figure size 720x432 with 1 Axes>"
      ]
     },
     "metadata": {},
     "output_type": "display_data"
    }
   ],
   "source": [
    "model.plot(forecast)\n",
    "plt.xlim(dt(2018,1,1), dt(2020,2,1))\n",
    "plt.show()"
   ]
  },
  {
   "cell_type": "code",
   "execution_count": 68,
   "id": "221e501f",
   "metadata": {},
   "outputs": [],
   "source": [
    "df_2020 = pd.read_csv('https://www.tepco.co.jp/forecast/html/images/juyo-2020.csv', encoding='shift-jis', skiprows=1)"
   ]
  },
  {
   "cell_type": "code",
   "execution_count": 69,
   "id": "061cab5f",
   "metadata": {},
   "outputs": [
    {
     "data": {
      "text/html": [
       "<div>\n",
       "<style scoped>\n",
       "    .dataframe tbody tr th:only-of-type {\n",
       "        vertical-align: middle;\n",
       "    }\n",
       "\n",
       "    .dataframe tbody tr th {\n",
       "        vertical-align: top;\n",
       "    }\n",
       "\n",
       "    .dataframe thead th {\n",
       "        text-align: right;\n",
       "    }\n",
       "</style>\n",
       "<table border=\"1\" class=\"dataframe\">\n",
       "  <thead>\n",
       "    <tr style=\"text-align: right;\">\n",
       "      <th></th>\n",
       "      <th>DATE</th>\n",
       "      <th>TIME</th>\n",
       "      <th>実績(万kW)</th>\n",
       "    </tr>\n",
       "  </thead>\n",
       "  <tbody>\n",
       "    <tr>\n",
       "      <th>0</th>\n",
       "      <td>2020/1/1</td>\n",
       "      <td>0:00</td>\n",
       "      <td>2857</td>\n",
       "    </tr>\n",
       "    <tr>\n",
       "      <th>1</th>\n",
       "      <td>2020/1/1</td>\n",
       "      <td>1:00</td>\n",
       "      <td>2703</td>\n",
       "    </tr>\n",
       "    <tr>\n",
       "      <th>2</th>\n",
       "      <td>2020/1/1</td>\n",
       "      <td>2:00</td>\n",
       "      <td>2602</td>\n",
       "    </tr>\n",
       "    <tr>\n",
       "      <th>3</th>\n",
       "      <td>2020/1/1</td>\n",
       "      <td>3:00</td>\n",
       "      <td>2520</td>\n",
       "    </tr>\n",
       "    <tr>\n",
       "      <th>4</th>\n",
       "      <td>2020/1/1</td>\n",
       "      <td>4:00</td>\n",
       "      <td>2464</td>\n",
       "    </tr>\n",
       "  </tbody>\n",
       "</table>\n",
       "</div>"
      ],
      "text/plain": [
       "       DATE  TIME  実績(万kW)\n",
       "0  2020/1/1  0:00     2857\n",
       "1  2020/1/1  1:00     2703\n",
       "2  2020/1/1  2:00     2602\n",
       "3  2020/1/1  3:00     2520\n",
       "4  2020/1/1  4:00     2464"
      ]
     },
     "execution_count": 69,
     "metadata": {},
     "output_type": "execute_result"
    }
   ],
   "source": [
    "df_2020.head()"
   ]
  },
  {
   "cell_type": "code",
   "execution_count": 74,
   "id": "c10e4feb",
   "metadata": {},
   "outputs": [],
   "source": [
    "forecast_2020 = forecast[forecast['ds'] >= dt(2020,1,1)].reset_index(drop=True)"
   ]
  },
  {
   "cell_type": "code",
   "execution_count": 76,
   "id": "7a7e50ed",
   "metadata": {},
   "outputs": [
    {
     "data": {
      "text/html": [
       "<div>\n",
       "<style scoped>\n",
       "    .dataframe tbody tr th:only-of-type {\n",
       "        vertical-align: middle;\n",
       "    }\n",
       "\n",
       "    .dataframe tbody tr th {\n",
       "        vertical-align: top;\n",
       "    }\n",
       "\n",
       "    .dataframe thead th {\n",
       "        text-align: right;\n",
       "    }\n",
       "</style>\n",
       "<table border=\"1\" class=\"dataframe\">\n",
       "  <thead>\n",
       "    <tr style=\"text-align: right;\">\n",
       "      <th></th>\n",
       "      <th>ds</th>\n",
       "      <th>trend</th>\n",
       "      <th>yhat_lower</th>\n",
       "      <th>yhat_upper</th>\n",
       "      <th>trend_lower</th>\n",
       "      <th>trend_upper</th>\n",
       "      <th>additive_terms</th>\n",
       "      <th>additive_terms_lower</th>\n",
       "      <th>additive_terms_upper</th>\n",
       "      <th>daily</th>\n",
       "      <th>...</th>\n",
       "      <th>weekly</th>\n",
       "      <th>weekly_lower</th>\n",
       "      <th>weekly_upper</th>\n",
       "      <th>yearly</th>\n",
       "      <th>yearly_lower</th>\n",
       "      <th>yearly_upper</th>\n",
       "      <th>multiplicative_terms</th>\n",
       "      <th>multiplicative_terms_lower</th>\n",
       "      <th>multiplicative_terms_upper</th>\n",
       "      <th>yhat</th>\n",
       "    </tr>\n",
       "  </thead>\n",
       "  <tbody>\n",
       "    <tr>\n",
       "      <th>0</th>\n",
       "      <td>2020-01-01 00:00:00</td>\n",
       "      <td>3129.232799</td>\n",
       "      <td>2543.040720</td>\n",
       "      <td>3311.739486</td>\n",
       "      <td>3129.232799</td>\n",
       "      <td>3129.232799</td>\n",
       "      <td>-221.101682</td>\n",
       "      <td>-221.101682</td>\n",
       "      <td>-221.101682</td>\n",
       "      <td>-488.418096</td>\n",
       "      <td>...</td>\n",
       "      <td>108.739137</td>\n",
       "      <td>108.739137</td>\n",
       "      <td>108.739137</td>\n",
       "      <td>158.577277</td>\n",
       "      <td>158.577277</td>\n",
       "      <td>158.577277</td>\n",
       "      <td>0.0</td>\n",
       "      <td>0.0</td>\n",
       "      <td>0.0</td>\n",
       "      <td>2908.131117</td>\n",
       "    </tr>\n",
       "    <tr>\n",
       "      <th>1</th>\n",
       "      <td>2020-01-01 01:00:00</td>\n",
       "      <td>3129.187280</td>\n",
       "      <td>2390.415615</td>\n",
       "      <td>3158.190928</td>\n",
       "      <td>3129.187280</td>\n",
       "      <td>3129.187280</td>\n",
       "      <td>-350.791369</td>\n",
       "      <td>-350.791369</td>\n",
       "      <td>-350.791369</td>\n",
       "      <td>-617.310869</td>\n",
       "      <td>...</td>\n",
       "      <td>108.085489</td>\n",
       "      <td>108.085489</td>\n",
       "      <td>108.085489</td>\n",
       "      <td>158.434011</td>\n",
       "      <td>158.434011</td>\n",
       "      <td>158.434011</td>\n",
       "      <td>0.0</td>\n",
       "      <td>0.0</td>\n",
       "      <td>0.0</td>\n",
       "      <td>2778.395911</td>\n",
       "    </tr>\n",
       "    <tr>\n",
       "      <th>2</th>\n",
       "      <td>2020-01-01 02:00:00</td>\n",
       "      <td>3129.141761</td>\n",
       "      <td>2318.664001</td>\n",
       "      <td>3094.342345</td>\n",
       "      <td>3129.141761</td>\n",
       "      <td>3129.141761</td>\n",
       "      <td>-428.410077</td>\n",
       "      <td>-428.410077</td>\n",
       "      <td>-428.410077</td>\n",
       "      <td>-694.377052</td>\n",
       "      <td>...</td>\n",
       "      <td>107.670179</td>\n",
       "      <td>107.670179</td>\n",
       "      <td>107.670179</td>\n",
       "      <td>158.296796</td>\n",
       "      <td>158.296796</td>\n",
       "      <td>158.296796</td>\n",
       "      <td>0.0</td>\n",
       "      <td>0.0</td>\n",
       "      <td>0.0</td>\n",
       "      <td>2700.731684</td>\n",
       "    </tr>\n",
       "    <tr>\n",
       "      <th>3</th>\n",
       "      <td>2020-01-01 03:00:00</td>\n",
       "      <td>3129.096242</td>\n",
       "      <td>2317.392386</td>\n",
       "      <td>3058.000200</td>\n",
       "      <td>3129.096242</td>\n",
       "      <td>3129.096242</td>\n",
       "      <td>-462.309375</td>\n",
       "      <td>-462.309375</td>\n",
       "      <td>-462.309375</td>\n",
       "      <td>-727.961739</td>\n",
       "      <td>...</td>\n",
       "      <td>107.486715</td>\n",
       "      <td>107.486715</td>\n",
       "      <td>107.486715</td>\n",
       "      <td>158.165649</td>\n",
       "      <td>158.165649</td>\n",
       "      <td>158.165649</td>\n",
       "      <td>0.0</td>\n",
       "      <td>0.0</td>\n",
       "      <td>0.0</td>\n",
       "      <td>2666.786866</td>\n",
       "    </tr>\n",
       "    <tr>\n",
       "      <th>4</th>\n",
       "      <td>2020-01-01 04:00:00</td>\n",
       "      <td>3129.050723</td>\n",
       "      <td>2312.101890</td>\n",
       "      <td>3070.561060</td>\n",
       "      <td>3129.050723</td>\n",
       "      <td>3129.050723</td>\n",
       "      <td>-442.578300</td>\n",
       "      <td>-442.578300</td>\n",
       "      <td>-442.578300</td>\n",
       "      <td>-708.143518</td>\n",
       "      <td>...</td>\n",
       "      <td>107.524631</td>\n",
       "      <td>107.524631</td>\n",
       "      <td>107.524631</td>\n",
       "      <td>158.040587</td>\n",
       "      <td>158.040587</td>\n",
       "      <td>158.040587</td>\n",
       "      <td>0.0</td>\n",
       "      <td>0.0</td>\n",
       "      <td>0.0</td>\n",
       "      <td>2686.472423</td>\n",
       "    </tr>\n",
       "  </tbody>\n",
       "</table>\n",
       "<p>5 rows × 22 columns</p>\n",
       "</div>"
      ],
      "text/plain": [
       "                   ds        trend   yhat_lower   yhat_upper  trend_lower  \\\n",
       "0 2020-01-01 00:00:00  3129.232799  2543.040720  3311.739486  3129.232799   \n",
       "1 2020-01-01 01:00:00  3129.187280  2390.415615  3158.190928  3129.187280   \n",
       "2 2020-01-01 02:00:00  3129.141761  2318.664001  3094.342345  3129.141761   \n",
       "3 2020-01-01 03:00:00  3129.096242  2317.392386  3058.000200  3129.096242   \n",
       "4 2020-01-01 04:00:00  3129.050723  2312.101890  3070.561060  3129.050723   \n",
       "\n",
       "   trend_upper  additive_terms  additive_terms_lower  additive_terms_upper  \\\n",
       "0  3129.232799     -221.101682           -221.101682           -221.101682   \n",
       "1  3129.187280     -350.791369           -350.791369           -350.791369   \n",
       "2  3129.141761     -428.410077           -428.410077           -428.410077   \n",
       "3  3129.096242     -462.309375           -462.309375           -462.309375   \n",
       "4  3129.050723     -442.578300           -442.578300           -442.578300   \n",
       "\n",
       "        daily  ...      weekly  weekly_lower  weekly_upper      yearly  \\\n",
       "0 -488.418096  ...  108.739137    108.739137    108.739137  158.577277   \n",
       "1 -617.310869  ...  108.085489    108.085489    108.085489  158.434011   \n",
       "2 -694.377052  ...  107.670179    107.670179    107.670179  158.296796   \n",
       "3 -727.961739  ...  107.486715    107.486715    107.486715  158.165649   \n",
       "4 -708.143518  ...  107.524631    107.524631    107.524631  158.040587   \n",
       "\n",
       "   yearly_lower  yearly_upper  multiplicative_terms  \\\n",
       "0    158.577277    158.577277                   0.0   \n",
       "1    158.434011    158.434011                   0.0   \n",
       "2    158.296796    158.296796                   0.0   \n",
       "3    158.165649    158.165649                   0.0   \n",
       "4    158.040587    158.040587                   0.0   \n",
       "\n",
       "   multiplicative_terms_lower  multiplicative_terms_upper         yhat  \n",
       "0                         0.0                         0.0  2908.131117  \n",
       "1                         0.0                         0.0  2778.395911  \n",
       "2                         0.0                         0.0  2700.731684  \n",
       "3                         0.0                         0.0  2666.786866  \n",
       "4                         0.0                         0.0  2686.472423  \n",
       "\n",
       "[5 rows x 22 columns]"
      ]
     },
     "execution_count": 76,
     "metadata": {},
     "output_type": "execute_result"
    }
   ],
   "source": [
    "forecast_2020.head()"
   ]
  },
  {
   "cell_type": "code",
   "execution_count": 78,
   "id": "62456b46",
   "metadata": {},
   "outputs": [],
   "source": [
    "df_2020 = df_2020.rename(columns={'実績(万kW)':'y'})"
   ]
  },
  {
   "cell_type": "code",
   "execution_count": 79,
   "id": "6d462dce",
   "metadata": {},
   "outputs": [
    {
     "data": {
      "text/html": [
       "<div>\n",
       "<style scoped>\n",
       "    .dataframe tbody tr th:only-of-type {\n",
       "        vertical-align: middle;\n",
       "    }\n",
       "\n",
       "    .dataframe tbody tr th {\n",
       "        vertical-align: top;\n",
       "    }\n",
       "\n",
       "    .dataframe thead th {\n",
       "        text-align: right;\n",
       "    }\n",
       "</style>\n",
       "<table border=\"1\" class=\"dataframe\">\n",
       "  <thead>\n",
       "    <tr style=\"text-align: right;\">\n",
       "      <th></th>\n",
       "      <th>DATE</th>\n",
       "      <th>TIME</th>\n",
       "      <th>y</th>\n",
       "    </tr>\n",
       "  </thead>\n",
       "  <tbody>\n",
       "    <tr>\n",
       "      <th>0</th>\n",
       "      <td>2020/1/1</td>\n",
       "      <td>0:00</td>\n",
       "      <td>2857</td>\n",
       "    </tr>\n",
       "    <tr>\n",
       "      <th>1</th>\n",
       "      <td>2020/1/1</td>\n",
       "      <td>1:00</td>\n",
       "      <td>2703</td>\n",
       "    </tr>\n",
       "    <tr>\n",
       "      <th>2</th>\n",
       "      <td>2020/1/1</td>\n",
       "      <td>2:00</td>\n",
       "      <td>2602</td>\n",
       "    </tr>\n",
       "    <tr>\n",
       "      <th>3</th>\n",
       "      <td>2020/1/1</td>\n",
       "      <td>3:00</td>\n",
       "      <td>2520</td>\n",
       "    </tr>\n",
       "    <tr>\n",
       "      <th>4</th>\n",
       "      <td>2020/1/1</td>\n",
       "      <td>4:00</td>\n",
       "      <td>2464</td>\n",
       "    </tr>\n",
       "  </tbody>\n",
       "</table>\n",
       "</div>"
      ],
      "text/plain": [
       "       DATE  TIME     y\n",
       "0  2020/1/1  0:00  2857\n",
       "1  2020/1/1  1:00  2703\n",
       "2  2020/1/1  2:00  2602\n",
       "3  2020/1/1  3:00  2520\n",
       "4  2020/1/1  4:00  2464"
      ]
     },
     "execution_count": 79,
     "metadata": {},
     "output_type": "execute_result"
    }
   ],
   "source": [
    "df_2020.head()"
   ]
  },
  {
   "cell_type": "code",
   "execution_count": null,
   "id": "891cff81",
   "metadata": {},
   "outputs": [],
   "source": [
    "#forecast_2020['yhat']"
   ]
  },
  {
   "cell_type": "code",
   "execution_count": 80,
   "id": "31add051",
   "metadata": {},
   "outputs": [],
   "source": [
    "results = pd.DataFrame()"
   ]
  },
  {
   "cell_type": "code",
   "execution_count": 81,
   "id": "4185ecfb",
   "metadata": {},
   "outputs": [],
   "source": [
    "results['t']= df_2020['y']\n",
    "\n",
    "results['y']= forecast_2020['yhat']\n",
    "results['diff']=results['t']-results['y']"
   ]
  },
  {
   "cell_type": "code",
   "execution_count": 82,
   "id": "a403e80a",
   "metadata": {},
   "outputs": [
    {
     "data": {
      "text/html": [
       "<div>\n",
       "<style scoped>\n",
       "    .dataframe tbody tr th:only-of-type {\n",
       "        vertical-align: middle;\n",
       "    }\n",
       "\n",
       "    .dataframe tbody tr th {\n",
       "        vertical-align: top;\n",
       "    }\n",
       "\n",
       "    .dataframe thead th {\n",
       "        text-align: right;\n",
       "    }\n",
       "</style>\n",
       "<table border=\"1\" class=\"dataframe\">\n",
       "  <thead>\n",
       "    <tr style=\"text-align: right;\">\n",
       "      <th></th>\n",
       "      <th>t</th>\n",
       "      <th>y</th>\n",
       "      <th>diff</th>\n",
       "    </tr>\n",
       "  </thead>\n",
       "  <tbody>\n",
       "    <tr>\n",
       "      <th>0</th>\n",
       "      <td>2857</td>\n",
       "      <td>2908.131117</td>\n",
       "      <td>-51.131117</td>\n",
       "    </tr>\n",
       "    <tr>\n",
       "      <th>1</th>\n",
       "      <td>2703</td>\n",
       "      <td>2778.395911</td>\n",
       "      <td>-75.395911</td>\n",
       "    </tr>\n",
       "    <tr>\n",
       "      <th>2</th>\n",
       "      <td>2602</td>\n",
       "      <td>2700.731684</td>\n",
       "      <td>-98.731684</td>\n",
       "    </tr>\n",
       "    <tr>\n",
       "      <th>3</th>\n",
       "      <td>2520</td>\n",
       "      <td>2666.786866</td>\n",
       "      <td>-146.786866</td>\n",
       "    </tr>\n",
       "    <tr>\n",
       "      <th>4</th>\n",
       "      <td>2464</td>\n",
       "      <td>2686.472423</td>\n",
       "      <td>-222.472423</td>\n",
       "    </tr>\n",
       "  </tbody>\n",
       "</table>\n",
       "</div>"
      ],
      "text/plain": [
       "      t            y        diff\n",
       "0  2857  2908.131117  -51.131117\n",
       "1  2703  2778.395911  -75.395911\n",
       "2  2602  2700.731684  -98.731684\n",
       "3  2520  2666.786866 -146.786866\n",
       "4  2464  2686.472423 -222.472423"
      ]
     },
     "execution_count": 82,
     "metadata": {},
     "output_type": "execute_result"
    }
   ],
   "source": [
    "results.head()"
   ]
  },
  {
   "cell_type": "code",
   "execution_count": 83,
   "id": "3ad74f77",
   "metadata": {},
   "outputs": [],
   "source": [
    "import numpy as np"
   ]
  },
  {
   "cell_type": "code",
   "execution_count": 84,
   "id": "e60216b9",
   "metadata": {},
   "outputs": [
    {
     "data": {
      "text/plain": [
       "12.175079402887496"
      ]
     },
     "execution_count": 84,
     "metadata": {},
     "output_type": "execute_result"
    }
   ],
   "source": [
    "np.mean(abs((results['y']-results['t'])/results['y'])*100)"
   ]
  },
  {
   "cell_type": "code",
   "execution_count": null,
   "id": "fd45945f",
   "metadata": {},
   "outputs": [],
   "source": [
    "model = Prophet()"
   ]
  },
  {
   "cell_type": "code",
   "execution_count": null,
   "id": "a8450137",
   "metadata": {},
   "outputs": [],
   "source": []
  },
  {
   "cell_type": "code",
   "execution_count": null,
   "id": "18fb41ba",
   "metadata": {},
   "outputs": [],
   "source": []
  },
  {
   "cell_type": "code",
   "execution_count": null,
   "id": "a94316d1",
   "metadata": {},
   "outputs": [],
   "source": []
  },
  {
   "cell_type": "code",
   "execution_count": null,
   "id": "16f6a4f0",
   "metadata": {},
   "outputs": [],
   "source": []
  }
 ],
 "metadata": {
  "kernelspec": {
   "display_name": "Python 3",
   "language": "python",
   "name": "python3"
  },
  "language_info": {
   "codemirror_mode": {
    "name": "ipython",
    "version": 3
   },
   "file_extension": ".py",
   "mimetype": "text/x-python",
   "name": "python",
   "nbconvert_exporter": "python",
   "pygments_lexer": "ipython3",
   "version": "3.8.8"
  }
 },
 "nbformat": 4,
 "nbformat_minor": 5
}
